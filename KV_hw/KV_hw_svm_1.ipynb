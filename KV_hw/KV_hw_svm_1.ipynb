{
 "cells": [
  {
   "cell_type": "code",
   "execution_count": 5,
   "metadata": {
    "collapsed": true
   },
   "outputs": [],
   "source": [
    "import numpy as np\n",
    "import numpy.ma as ma\n",
    "\n",
    "import time\n",
    "\n",
    "%matplotlib inline\n",
    "import matplotlib as mpl\n",
    "from matplotlib import pyplot as plt"
   ]
  },
  {
   "cell_type": "code",
   "execution_count": 16,
   "metadata": {
    "collapsed": false
   },
   "outputs": [
    {
     "name": "stdout",
     "output_type": "stream",
     "text": [
      "The autoreload extension is already loaded. To reload it, use:\n",
      "  %reload_ext autoreload\n"
     ]
    },
    {
     "ename": "IndentationError",
     "evalue": "expected an indented block (svm.py, line 31)",
     "output_type": "error",
     "traceback": [
      "\u001b[1;36m  File \u001b[1;32m\"/home/kvandy/Documents/MMP/Krasotkina/kv_hw&Kursach/KV_hw/svm.py\"\u001b[1;36m, line \u001b[1;32m31\u001b[0m\n\u001b[1;33m    class SmoothSVM(SVM):\u001b[0m\n\u001b[1;37m        ^\u001b[0m\n\u001b[1;31mIndentationError\u001b[0m\u001b[1;31m:\u001b[0m expected an indented block\n"
     ]
    }
   ],
   "source": [
    "%load_ext autoreload\n",
    "%autoreload 1\n",
    "%aimport sigproc\n",
    "%aimport config_svm"
   ]
  },
  {
   "cell_type": "code",
   "execution_count": null,
   "metadata": {
    "collapsed": true
   },
   "outputs": [],
   "source": [
    "%aimport svm"
   ]
  },
  {
   "cell_type": "code",
   "execution_count": null,
   "metadata": {
    "collapsed": true
   },
   "outputs": [],
   "source": [
    "change_printopt = config_svm.printoptions"
   ]
  },
  {
   "cell_type": "code",
   "execution_count": 7,
   "metadata": {
    "collapsed": false
   },
   "outputs": [
    {
     "ename": "NameError",
     "evalue": "name 'config_svm' is not defined",
     "output_type": "error",
     "traceback": [
      "\u001b[1;31m---------------------------------------------------------------------------\u001b[0m",
      "\u001b[1;31mNameError\u001b[0m                                 Traceback (most recent call last)",
      "\u001b[1;32m<ipython-input-7-17453774d3db>\u001b[0m in \u001b[0;36m<module>\u001b[1;34m()\u001b[0m\n\u001b[1;32m----> 1\u001b[1;33m \u001b[0mpic_dir\u001b[0m \u001b[1;33m=\u001b[0m \u001b[0mconfig_svm\u001b[0m\u001b[1;33m.\u001b[0m\u001b[0mpic_dir\u001b[0m\u001b[1;33m\u001b[0m\u001b[0m\n\u001b[0m",
      "\u001b[1;31mNameError\u001b[0m: name 'config_svm' is not defined"
     ]
    }
   ],
   "source": [
    "pic_dir = config_svm.pic_dir"
   ]
  },
  {
   "cell_type": "code",
   "execution_count": 8,
   "metadata": {
    "collapsed": false
   },
   "outputs": [
    {
     "ename": "NameError",
     "evalue": "name 'config_svm' is not defined",
     "output_type": "error",
     "traceback": [
      "\u001b[1;31m---------------------------------------------------------------------------\u001b[0m",
      "\u001b[1;31mNameError\u001b[0m                                 Traceback (most recent call last)",
      "\u001b[1;32m<ipython-input-8-ae1d5f5db006>\u001b[0m in \u001b[0;36m<module>\u001b[1;34m()\u001b[0m\n\u001b[0;32m      1\u001b[0m \u001b[1;32mimport\u001b[0m \u001b[0msys\u001b[0m\u001b[1;33m\u001b[0m\u001b[0m\n\u001b[1;32m----> 2\u001b[1;33m \u001b[0mEps\u001b[0m \u001b[1;33m=\u001b[0m  \u001b[0mconfig_svm\u001b[0m\u001b[1;33m.\u001b[0m\u001b[0mEps\u001b[0m \u001b[1;31m#sys.float_info.epsilon\u001b[0m\u001b[1;33m\u001b[0m\u001b[0m\n\u001b[0m",
      "\u001b[1;31mNameError\u001b[0m: name 'config_svm' is not defined"
     ]
    }
   ],
   "source": [
    "import sys\n",
    "Eps =  config_svm.Eps #sys.float_info.epsilon"
   ]
  },
  {
   "cell_type": "markdown",
   "metadata": {},
   "source": [
    "# 3. Эксперименты на реальных данных"
   ]
  },
  {
   "cell_type": "markdown",
   "metadata": {},
   "source": [
    "Создаем многомерный массив, размерность (количетво нужных символов (английские буквы)= 26x2,\n",
    "                                         количество респондентов=60,\n",
    "                                         количество повторений=2,\n",
    "                                         вектор измерений (x, y) = 2,\n",
    "                                         максимальное количество измерений = количество измерений) //надо посчитать"
   ]
  },
  {
   "cell_type": "code",
   "execution_count": 9,
   "metadata": {
    "collapsed": true
   },
   "outputs": [],
   "source": [
    "import re\n",
    "from os import walk\n",
    "\n",
    "r_strokenum = re.compile('\\s+NUMSTROKES (\\d)')\n",
    "r_pntnum = re.compile('\\s+POINTS (\\d+) #*')\n",
    "r_word = re.compile('WORD ([a-zA-Z]) (trn|tst)_(UJI|UPV)_W(\\d\\d)-(01|02)', re.A)\n",
    "strokenum = 0\n",
    "num = 0\n",
    "cnt = 0\n",
    "max_d = 0\n",
    "\n",
    "file_name = 'data/uji-penchars/ver2/ujipenchars2.txt'\n",
    "data_file = open(file_name)\n",
    "text_data = data_file.read().splitlines()\n",
    "it_text = iter(text_data)\n",
    "\n",
    "for line in it_text:\n",
    "    if r_word.match(line):\n",
    "        letter = r_word.match(line).group(1)\n",
    "        num = 0\n",
    "        line = next(it_text)\n",
    "        strokenum = int(r_strokenum.match(line).group(1))\n",
    "        cnt += 1\n",
    "        while(strokenum):\n",
    "            line = next(it_text)\n",
    "            num += int(r_pntnum.match(line).group(1))\n",
    "            strokenum -= 1 \n",
    "        if max_d < num:\n",
    "            max_d = num\n",
    "            #print(letter, max_d) - Напечатать буквы макимизирующие вырпжение"
   ]
  },
  {
   "cell_type": "code",
   "execution_count": 10,
   "metadata": {
    "collapsed": false
   },
   "outputs": [
    {
     "name": "stdout",
     "output_type": "stream",
     "text": [
      "Больше всего точек буквы =  392\n"
     ]
    }
   ],
   "source": [
    "keys = [\"a\", \"b\", \"c\", \"d\", \"e\", \"f\", \"g\", \"h\", \"i\", \"j\", \"k\", \"l\", \"m\",\n",
    " \"n\", \"o\", \"p\", \"q\", \"r\", \"s\", \"t\", \"u\", \"v\", \"w\", \"x\", \"y\", \"z\",\n",
    " \"A\", \"B\", \"C\", \"D\", \"E\", \"F\", \"G\", \"H\", \"I\", \"J\", \"K\", \"L\", \"M\",\n",
    " \"N\", \"O\", \"P\", \"Q\", \"R\", \"S\", \"T\", \"U\", \"V\", \"W\", \"X\", \"Y\", \"Z\"]\n",
    "values = list(range(len(keys)))\n",
    "lexicon = dict(zip(keys, values))\n",
    "anti_lexicon = dict(zip(values, keys))\n",
    "frame_size = np.array([13.6, 20.4]) \n",
    "UJI_ratio, UPV_ratio = 100, 152\n",
    "\n",
    "print(\"Больше всего точек буквы = \", max_d)\n",
    "masked_fill_value = 1.e-20\n",
    "real_data = masked_fill_value*np.ones((len(keys), 60, 2, 2, max_d), dtype=np.float64)"
   ]
  },
  {
   "cell_type": "code",
   "execution_count": 11,
   "metadata": {
    "collapsed": false
   },
   "outputs": [
    {
     "name": "stdout",
     "output_type": "stream",
     "text": [
      "Mbytes in data stored as masked arrays with length 392: 37.32422 Mb\n"
     ]
    }
   ],
   "source": [
    "print(\"Mbytes in data stored as masked arrays with length {0:d}: {1:.5f} Mb\".format(max_d, real_data.nbytes / 2**(20)))"
   ]
  },
  {
   "cell_type": "code",
   "execution_count": 12,
   "metadata": {
    "collapsed": true
   },
   "outputs": [],
   "source": [
    "r_word = re.compile('WORD ([a-zA-Z]) (trn|tst)_(UJI|UPV)_W(\\d\\d)-(01|02)', re.A)\n",
    "r_pntnum = re.compile('\\s+POINTS (\\d+) #((\\s+-?\\d+)*)')\n",
    "\n",
    "it_text = iter(text_data)\n",
    "for line in it_text:\n",
    "    if r_word.match(line):\n",
    "        letter, UnivDivider, writer, repet = r_word.match(line).group(1, 3, 4, 5)\n",
    "        line = next(it_text)\n",
    "        strokenum = int(r_strokenum.match(line).group(1))\n",
    "        stroke_offset = 0\n",
    "        while(strokenum):\n",
    "            line = next(it_text)\n",
    "            pntnum_m = r_pntnum.match(line)\n",
    "            pnts_num = int(pntnum_m.group(1))\n",
    "            #print(pnts_num)\n",
    "            #print(pntnum_m.group(2)[1:].split(sep=' '))\n",
    "            pnts = np.array([int(pnt_xy) for pnt_xy in pntnum_m.group(2)[1:].split(sep=' ')])\n",
    "            divider = 1\n",
    "###can change divider parametr\n",
    "            if UnivDivider == 'UPV':\n",
    "                divider = UPV_ratio/UJI_ratio \n",
    "            #print(lexicon[letter], int(writer) - 1, int(repet) - 1)\n",
    "            #try:\n",
    "            real_data[lexicon[letter], int(writer) - 1, int(repet) - 1, 0,\n",
    "                      stroke_offset:stroke_offset + pnts_num] = pnts[::2]/divider # x coords\n",
    "            real_data[lexicon[letter], int(writer) - 1, int(repet) - 1, 1,\n",
    "                      stroke_offset:stroke_offset + pnts_num] = pnts[1::2]/divider # y coords\n",
    "            #except ValueError:\n",
    "            #    print(pnts.shape)\n",
    "            stroke_offset += pnts_num\n",
    "            strokenum -= 1"
   ]
  },
  {
   "cell_type": "code",
   "execution_count": 13,
   "metadata": {
    "collapsed": true
   },
   "outputs": [],
   "source": [
    "real_data = ma.masked_values(real_data, value=masked_fill_value)"
   ]
  },
  {
   "cell_type": "code",
   "execution_count": 14,
   "metadata": {
    "collapsed": false
   },
   "outputs": [
    {
     "ename": "NameError",
     "evalue": "name 'config_svm' is not defined",
     "output_type": "error",
     "traceback": [
      "\u001b[1;31m---------------------------------------------------------------------------\u001b[0m",
      "\u001b[1;31mNameError\u001b[0m                                 Traceback (most recent call last)",
      "\u001b[1;32m<ipython-input-14-b145ddea97c5>\u001b[0m in \u001b[0;36m<module>\u001b[1;34m()\u001b[0m\n\u001b[1;32m----> 1\u001b[1;33m \u001b[1;32mwith\u001b[0m \u001b[0mconfig_svm\u001b[0m\u001b[1;33m.\u001b[0m\u001b[0mprintoptions\u001b[0m\u001b[1;33m(\u001b[0m\u001b[0msuppress\u001b[0m\u001b[1;33m=\u001b[0m\u001b[1;32mTrue\u001b[0m\u001b[1;33m)\u001b[0m\u001b[1;33m:\u001b[0m\u001b[1;33m\u001b[0m\u001b[0m\n\u001b[0m\u001b[0;32m      2\u001b[0m     \u001b[0mprint\u001b[0m\u001b[1;33m(\u001b[0m\u001b[0mreal_data\u001b[0m\u001b[1;33m)\u001b[0m\u001b[1;33m\u001b[0m\u001b[0m\n",
      "\u001b[1;31mNameError\u001b[0m: name 'config_svm' is not defined"
     ]
    }
   ],
   "source": [
    "with config_svm.printoptions(suppress=True):\n",
    "    print(real_data)"
   ]
  },
  {
   "cell_type": "code",
   "execution_count": null,
   "metadata": {
    "collapsed": true
   },
   "outputs": [],
   "source": [
    "def vis_letters(letter_index, real_data,frame=frame_size, ratio=UJI_ratio, vert_lines=np.array([7.5,12.7]), verbose=True):\n",
    "    points_xy = real_data[letter_index].compressed().reshape(2, -1)\n",
    "    fig = plt.figure(figsize=frame/2)\n",
    "    ax = fig.gca()\n",
    "    ax.plot(points_xy[0], points_xy[1], 'k-', linewidth=0.5)\n",
    "    ax.scatter(points_xy[0, 1:-1], points_xy[1, 1:-1], c='b', marker='o', s=30)\n",
    "    ax.scatter(points_xy[0, 0], points_xy[1, 0], c=(0, 0.95, 0), marker='o', s=40) #start\n",
    "    ax.scatter(points_xy[0, -1], points_xy[1, -1], c=(0.95, 0, 0), marker='o', s=40) #end\n",
    "    xlim = [0.0, frame[0]*ratio]\n",
    "    ylim = [0.0, frame[1]*ratio]\n",
    "    ax.xaxis.tick_top()\n",
    "    ax.set_xlim(*xlim)\n",
    "    ax.set_ylim(*ylim)\n",
    "    ax.plot(xlim, vert_lines[[0, 0]]*ratio, 'k', lw=1)\n",
    "    ax.plot(ylim, vert_lines[[1, 1]]*ratio, 'k', lw=1)\n",
    "    ax.set_xticks(np.arange(*(xlim + [100])))\n",
    "    ax.set_yticks(np.arange(*(ylim + [100])))\n",
    "    # We change the fontsize of minor ticks label \n",
    "    ax.tick_params(axis='both', which='major', labelsize=10)\n",
    "    if verbose:\n",
    "        ax.set_title(\"Буква '{0:s}'\\tреспондент {1:d}\\tпопытка {2:d}\".format(\n",
    "                anti_lexicon[letter_index[0]], letter_index[1] + 1, letter_index[2] + 1),fontsize=20, y=1.03)\n",
    "    ax.invert_yaxis()\n",
    "    ax.grid()     "
   ]
  },
  {
   "cell_type": "code",
   "execution_count": 15,
   "metadata": {
    "collapsed": false
   },
   "outputs": [
    {
     "ename": "NameError",
     "evalue": "name 'vis_letters' is not defined",
     "output_type": "error",
     "traceback": [
      "\u001b[1;31m---------------------------------------------------------------------------\u001b[0m",
      "\u001b[1;31mNameError\u001b[0m                                 Traceback (most recent call last)",
      "\u001b[1;32m<ipython-input-15-8dc93efc1391>\u001b[0m in \u001b[0;36m<module>\u001b[1;34m()\u001b[0m\n\u001b[0;32m      1\u001b[0m \u001b[1;32mfor\u001b[0m \u001b[0mwriter\u001b[0m \u001b[1;32min\u001b[0m \u001b[0mrange\u001b[0m\u001b[1;33m(\u001b[0m\u001b[1;36m1\u001b[0m\u001b[1;33m,\u001b[0m \u001b[1;36m60\u001b[0m\u001b[1;33m,\u001b[0m \u001b[1;36m10\u001b[0m\u001b[1;33m)\u001b[0m\u001b[1;33m:\u001b[0m\u001b[1;33m\u001b[0m\u001b[0m\n\u001b[0;32m      2\u001b[0m     \u001b[1;32mfor\u001b[0m \u001b[0mrepet\u001b[0m \u001b[1;32min\u001b[0m \u001b[0mrange\u001b[0m\u001b[1;33m(\u001b[0m\u001b[1;36m2\u001b[0m\u001b[1;33m)\u001b[0m\u001b[1;33m:\u001b[0m\u001b[1;33m\u001b[0m\u001b[0m\n\u001b[1;32m----> 3\u001b[1;33m         \u001b[0mvis_letters\u001b[0m\u001b[1;33m(\u001b[0m\u001b[1;33m(\u001b[0m\u001b[0mlexicon\u001b[0m\u001b[1;33m[\u001b[0m\u001b[1;34m'y'\u001b[0m\u001b[1;33m]\u001b[0m\u001b[1;33m,\u001b[0m \u001b[0mwriter\u001b[0m\u001b[1;33m,\u001b[0m \u001b[0mrepet\u001b[0m\u001b[1;33m)\u001b[0m\u001b[1;33m,\u001b[0m \u001b[0mreal_data\u001b[0m\u001b[1;33m)\u001b[0m\u001b[1;33m\u001b[0m\u001b[0m\n\u001b[0m",
      "\u001b[1;31mNameError\u001b[0m: name 'vis_letters' is not defined"
     ]
    }
   ],
   "source": [
    "for writer in range(1, 60, 10):\n",
    "    for repet in range(2):\n",
    "        vis_letters((lexicon['y'], writer, repet), real_data)"
   ]
  },
  {
   "cell_type": "code",
   "execution_count": null,
   "metadata": {
    "collapsed": true
   },
   "outputs": [],
   "source": []
  },
  {
   "cell_type": "markdown",
   "metadata": {},
   "source": [
    "## Making DTW preprocessing"
   ]
  },
  {
   "cell_type": "code",
   "execution_count": null,
   "metadata": {
    "collapsed": true
   },
   "outputs": [],
   "source": [
    "def test(real_data, index_list):\n",
    "    for ind in index_list:\n",
    "        a = real_data[ind[0]].compressed().reshape(2, -1).T\n",
    "        b = real_data[ind[1]].compressed().reshape(2, -1).T\n",
    "        dist, D = sigproc.dtw(a, b, do_path=False)\n",
    "        print(\"Буква '{0:s}'\\tреспондент {1:d}\\tпопытка 0 и 1: \\t{2:.3f}\".format(\n",
    "                anti_lexicon[ind[0][0]], ind[0][1] + 1, dist))"
   ]
  },
  {
   "cell_type": "code",
   "execution_count": null,
   "metadata": {
    "collapsed": true
   },
   "outputs": [],
   "source": [
    "index_list = [[(lexicon['y'], wr-1, 0), (lexicon['y'], wr-1, 1)] for wr in [2, 22,32]]\n",
    "test(real_data, index_list)"
   ]
  },
  {
   "cell_type": "code",
   "execution_count": null,
   "metadata": {
    "collapsed": true
   },
   "outputs": [],
   "source": [
    "X = real_data[[lexicon['f'], lexicon['e']], :11, 0].reshape(-1, 2, max_d)\n",
    "y = np.ones((X.shape[0],1))\n",
    "y[X.shape[0]/2:] *= -1"
   ]
  },
  {
   "cell_type": "code",
   "execution_count": null,
   "metadata": {
    "collapsed": true
   },
   "outputs": [],
   "source": [
    "SmSVM_feres_fe = svm.smooth_qp_primal_real_solver(X, y, np.array([0, 0, 0]), alpha=0, verbose=True)"
   ]
  },
  {
   "cell_type": "code",
   "execution_count": null,
   "metadata": {
    "collapsed": true
   },
   "outputs": [],
   "source": [
    "res_fe_al1 = svm.smooth_qp_primal_real_solver(X, y, np.array([0, 0, 0]), alpha=50, verbose=True)"
   ]
  }
 ],
 "metadata": {
  "kernelspec": {
   "display_name": "Python 3",
   "language": "python",
   "name": "python3"
  },
  "language_info": {
   "codemirror_mode": {
    "name": "ipython",
    "version": 3
   },
   "file_extension": ".py",
   "mimetype": "text/x-python",
   "name": "python",
   "nbconvert_exporter": "python",
   "pygments_lexer": "ipython3",
   "version": "3.4.3"
  }
 },
 "nbformat": 4,
 "nbformat_minor": 0
}
